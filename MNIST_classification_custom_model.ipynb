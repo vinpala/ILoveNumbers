{
  "nbformat": 4,
  "nbformat_minor": 0,
  "metadata": {
    "colab": {
      "name": "MNIST_classification_custom_model.ipynb",
      "version": "0.3.2",
      "provenance": [],
      "collapsed_sections": [],
      "toc_visible": true,
      "include_colab_link": true
    },
    "kernelspec": {
      "name": "python3",
      "display_name": "Python 3"
    },
    "accelerator": "GPU"
  },
  "cells": [
    {
      "cell_type": "markdown",
      "metadata": {
        "id": "view-in-github",
        "colab_type": "text"
      },
      "source": [
        "<a href=\"https://colab.research.google.com/github/vinpala/ILoveNumbers/blob/master/MNIST_classification_custom_model.ipynb\" target=\"_parent\"><img src=\"https://colab.research.google.com/assets/colab-badge.svg\" alt=\"Open In Colab\"/></a>"
      ]
    },
    {
      "metadata": {
        "id": "LVlE4iwK2GuY",
        "colab_type": "text",
        "_uuid": "1b661e7de8b8c19713f751df71ce4f58c08bad3d"
      },
      "cell_type": "markdown",
      "source": [
        "# Getting MNIST data\n"
      ]
    },
    {
      "metadata": {
        "id": "-dBe6HLoXxIk",
        "colab_type": "code",
        "trusted": true,
        "_uuid": "b6cdf2933680c07f8b6d9e823829965fd27aa283",
        "outputId": "3ce1bd48-07b6-4385-e5e5-231447ff9c97",
        "colab": {
          "base_uri": "https://localhost:8080/",
          "height": 524
        }
      },
      "cell_type": "code",
      "source": [
        "import os\n",
        "import scipy.misc\n",
        "from tensorflow.contrib.learn.python.learn.datasets.mnist import extract_images, extract_labels\n",
        "from tensorflow.examples.tutorials.mnist import input_data\n",
        "mnist = input_data.read_data_sets(\"MNIST_data/\", one_hot=True)"
      ],
      "execution_count": 0,
      "outputs": [
        {
          "output_type": "stream",
          "text": [
            "WARNING:tensorflow:From <ipython-input-1-15977ce51598>:5: read_data_sets (from tensorflow.contrib.learn.python.learn.datasets.mnist) is deprecated and will be removed in a future version.\n",
            "Instructions for updating:\n",
            "Please use alternatives such as official/mnist/dataset.py from tensorflow/models.\n",
            "WARNING:tensorflow:From /usr/local/lib/python3.6/dist-packages/tensorflow/contrib/learn/python/learn/datasets/mnist.py:260: maybe_download (from tensorflow.contrib.learn.python.learn.datasets.base) is deprecated and will be removed in a future version.\n",
            "Instructions for updating:\n",
            "Please write your own downloading logic.\n",
            "WARNING:tensorflow:From /usr/local/lib/python3.6/dist-packages/tensorflow/contrib/learn/python/learn/datasets/base.py:252: _internal_retry.<locals>.wrap.<locals>.wrapped_fn (from tensorflow.contrib.learn.python.learn.datasets.base) is deprecated and will be removed in a future version.\n",
            "Instructions for updating:\n",
            "Please use urllib or similar directly.\n",
            "Successfully downloaded train-images-idx3-ubyte.gz 9912422 bytes.\n",
            "WARNING:tensorflow:From /usr/local/lib/python3.6/dist-packages/tensorflow/contrib/learn/python/learn/datasets/mnist.py:262: extract_images (from tensorflow.contrib.learn.python.learn.datasets.mnist) is deprecated and will be removed in a future version.\n",
            "Instructions for updating:\n",
            "Please use tf.data to implement this functionality.\n",
            "Extracting MNIST_data/train-images-idx3-ubyte.gz\n",
            "Successfully downloaded train-labels-idx1-ubyte.gz 28881 bytes.\n",
            "WARNING:tensorflow:From /usr/local/lib/python3.6/dist-packages/tensorflow/contrib/learn/python/learn/datasets/mnist.py:267: extract_labels (from tensorflow.contrib.learn.python.learn.datasets.mnist) is deprecated and will be removed in a future version.\n",
            "Instructions for updating:\n",
            "Please use tf.data to implement this functionality.\n",
            "Extracting MNIST_data/train-labels-idx1-ubyte.gz\n",
            "WARNING:tensorflow:From /usr/local/lib/python3.6/dist-packages/tensorflow/contrib/learn/python/learn/datasets/mnist.py:110: dense_to_one_hot (from tensorflow.contrib.learn.python.learn.datasets.mnist) is deprecated and will be removed in a future version.\n",
            "Instructions for updating:\n",
            "Please use tf.one_hot on tensors.\n",
            "Successfully downloaded t10k-images-idx3-ubyte.gz 1648877 bytes.\n",
            "Extracting MNIST_data/t10k-images-idx3-ubyte.gz\n",
            "Successfully downloaded t10k-labels-idx1-ubyte.gz 4542 bytes.\n",
            "Extracting MNIST_data/t10k-labels-idx1-ubyte.gz\n",
            "WARNING:tensorflow:From /usr/local/lib/python3.6/dist-packages/tensorflow/contrib/learn/python/learn/datasets/mnist.py:290: DataSet.__init__ (from tensorflow.contrib.learn.python.learn.datasets.mnist) is deprecated and will be removed in a future version.\n",
            "Instructions for updating:\n",
            "Please use alternatives such as official/mnist/dataset.py from tensorflow/models.\n"
          ],
          "name": "stdout"
        }
      ]
    },
    {
      "metadata": {
        "id": "oH9z_W0dQYK_",
        "colab_type": "text",
        "_uuid": "36775547de2709c26ab424d5ad1baefacdef67c8"
      },
      "cell_type": "markdown",
      "source": [
        "From this site: http://yann.lecun.com/exdb/mnist/\n",
        "\n",
        "      train-images-idx3-ubyte.gz:  training set images (9912422 bytes) \n",
        "      train-labels-idx1-ubyte.gz:  training set labels (28881 bytes) \n",
        "      t10k-images-idx3-ubyte.gz:   test set images (1648877 bytes) \n",
        "      t10k-labels-idx1-ubyte.gz:   test set labels (4542 bytes)"
      ]
    },
    {
      "metadata": {
        "id": "IgR-pM_l10as",
        "colab_type": "code",
        "trusted": false,
        "_uuid": "aa239b693bd990e999ce1f8eb5d1eaa45f2fc6d5",
        "colab": {}
      },
      "cell_type": "code",
      "source": [
        "!ls"
      ],
      "execution_count": 0,
      "outputs": []
    },
    {
      "metadata": {
        "id": "t5lHdyKv16F9",
        "colab_type": "code",
        "outputId": "157b5e5e-b073-42f7-efcf-82856c528de7",
        "trusted": true,
        "_uuid": "dc3528fc6af9a60b499e64f6de4379a51e066eb3",
        "colab": {
          "base_uri": "https://localhost:8080/",
          "height": 50
        }
      },
      "cell_type": "code",
      "source": [
        "!ls MNIST_data"
      ],
      "execution_count": 0,
      "outputs": [
        {
          "output_type": "stream",
          "text": [
            "t10k-images-idx3-ubyte.gz  train-images-idx3-ubyte.gz\n",
            "t10k-labels-idx1-ubyte.gz  train-labels-idx1-ubyte.gz\n"
          ],
          "name": "stdout"
        }
      ]
    },
    {
      "metadata": {
        "id": "KFdxaOtl2KOJ",
        "colab_type": "code",
        "trusted": true,
        "_uuid": "ec2bddad349f713d65d59fd9b1c30565bca98e40",
        "colab": {}
      },
      "cell_type": "code",
      "source": [
        "train_images_path = \"MNIST_data/train-images-idx3-ubyte.gz\"\n",
        "train_labels_path = \"MNIST_data/train-labels-idx1-ubyte.gz\"\n",
        "\n",
        "test_images_path = \"MNIST_data/t10k-images-idx3-ubyte.gz\"\n",
        "test_labels_path = \"MNIST_data/t10k-labels-idx1-ubyte.gz\""
      ],
      "execution_count": 0,
      "outputs": []
    },
    {
      "metadata": {
        "id": "eIlKy7AT2B-3",
        "colab_type": "code",
        "outputId": "10ea055c-6b96-4c01-f286-0bdb95f60e8c",
        "trusted": true,
        "_uuid": "286caf6e02a1b8fa1e9cd35b52f058ea77d6a28c",
        "colab": {
          "base_uri": "https://localhost:8080/",
          "height": 84
        }
      },
      "cell_type": "code",
      "source": [
        "# load training images binary file\n",
        "with open(train_images_path, 'rb') as f:\n",
        "  train_images = extract_images(f)\n",
        "# load training labels binary file\n",
        "with open(train_labels_path, 'rb') as f:\n",
        "  train_labels = extract_labels(f, one_hot=True)\n",
        "\n",
        "\n",
        "# load test images binary file\n",
        "with open(test_images_path, 'rb') as f:\n",
        "  test_images = extract_images(f)\n",
        "# load test labels binary file\n",
        "with open(test_labels_path, 'rb') as f:\n",
        "  test_labels = extract_labels(f, one_hot=True)"
      ],
      "execution_count": 0,
      "outputs": [
        {
          "output_type": "stream",
          "text": [
            "Extracting MNIST_data/train-images-idx3-ubyte.gz\n",
            "Extracting MNIST_data/train-labels-idx1-ubyte.gz\n",
            "Extracting MNIST_data/t10k-images-idx3-ubyte.gz\n",
            "Extracting MNIST_data/t10k-labels-idx1-ubyte.gz\n"
          ],
          "name": "stdout"
        }
      ]
    },
    {
      "metadata": {
        "id": "z5-HLp711-Gs",
        "colab_type": "code",
        "outputId": "26e1810f-b32c-489b-9c66-726e7de082aa",
        "trusted": true,
        "_uuid": "5270218f88b863634ab0de23c8c22531786688d4",
        "colab": {
          "base_uri": "https://localhost:8080/",
          "height": 134
        }
      },
      "cell_type": "code",
      "source": [
        "train_labels"
      ],
      "execution_count": 0,
      "outputs": [
        {
          "output_type": "execute_result",
          "data": {
            "text/plain": [
              "array([[0., 0., 0., ..., 0., 0., 0.],\n",
              "       [1., 0., 0., ..., 0., 0., 0.],\n",
              "       [0., 0., 0., ..., 0., 0., 0.],\n",
              "       ...,\n",
              "       [0., 0., 0., ..., 0., 0., 0.],\n",
              "       [0., 0., 0., ..., 0., 0., 0.],\n",
              "       [0., 0., 0., ..., 0., 1., 0.]])"
            ]
          },
          "metadata": {
            "tags": []
          },
          "execution_count": 15
        }
      ]
    },
    {
      "metadata": {
        "id": "a57QewW0rtme",
        "colab_type": "code",
        "trusted": true,
        "_uuid": "774a02c2f2f4558008c3692351dee187d407fe44",
        "colab": {}
      },
      "cell_type": "code",
      "source": [
        "#set(train_labels)"
      ],
      "execution_count": 0,
      "outputs": []
    },
    {
      "metadata": {
        "id": "s_QwWIlz4MVW",
        "colab_type": "code",
        "outputId": "5b6b2be1-78b0-4132-c5b1-28ec6e631994",
        "trusted": true,
        "_uuid": "1577891a3193c61488d2fee1339d40e8efe959eb",
        "colab": {
          "base_uri": "https://localhost:8080/",
          "height": 34
        }
      },
      "cell_type": "code",
      "source": [
        "train_images[0].shape"
      ],
      "execution_count": 0,
      "outputs": [
        {
          "output_type": "execute_result",
          "data": {
            "text/plain": [
              "(28, 28, 1)"
            ]
          },
          "metadata": {
            "tags": []
          },
          "execution_count": 16
        }
      ]
    },
    {
      "metadata": {
        "id": "eEEdqFNsXACw",
        "colab_type": "code",
        "outputId": "227c6cfc-c65b-44b0-a35c-2bc2d453115b",
        "trusted": true,
        "_uuid": "d4152ce3cdaa35cc328dd0d402856312b1d769f1",
        "colab": {
          "base_uri": "https://localhost:8080/",
          "height": 364
        }
      },
      "cell_type": "code",
      "source": [
        "import matplotlib.pyplot as plt\n",
        "plt.imshow(train_images[3].reshape(28,28))"
      ],
      "execution_count": 0,
      "outputs": [
        {
          "output_type": "execute_result",
          "data": {
            "text/plain": [
              "<matplotlib.image.AxesImage at 0x7feccec433c8>"
            ]
          },
          "metadata": {
            "tags": []
          },
          "execution_count": 4
        },
        {
          "output_type": "display_data",
          "data": {
            "image/png": "[encoded data removed]",
            "text/plain": [
              "<matplotlib.figure.Figure at 0x7feccfaef898>"
            ]
          },
          "metadata": {
            "tags": []
          }
        }
      ]
    },
    {
      "metadata": {
        "id": "w5quA0tv7klk",
        "colab_type": "code",
        "outputId": "b7bff58f-7d84-44ed-eeed-a082093a30ce",
        "trusted": true,
        "_uuid": "1ace33bae0ad9c85b46c65906a2eb3567e6bd1e8",
        "colab": {
          "base_uri": "https://localhost:8080/",
          "height": 34
        }
      },
      "cell_type": "code",
      "source": [
        "train_images.shape"
      ],
      "execution_count": 0,
      "outputs": [
        {
          "output_type": "execute_result",
          "data": {
            "text/plain": [
              "(60000, 28, 28, 1)"
            ]
          },
          "metadata": {
            "tags": []
          },
          "execution_count": 17
        }
      ]
    },
    {
      "metadata": {
        "trusted": true,
        "_uuid": "7753b7c88c95e127296b21f1c9a1efaddad40030",
        "id": "OXFQQzGPp0Bi",
        "colab_type": "code",
        "colab": {}
      },
      "cell_type": "code",
      "source": [
        "#train_images.reshape(train_images.shape[0],-1).shape"
      ],
      "execution_count": 0,
      "outputs": []
    },
    {
      "metadata": {
        "trusted": true,
        "_uuid": "5091eca31d376300613cac27dc750f128600010d",
        "id": "Di1lzy6np0Bl",
        "colab_type": "code",
        "outputId": "a5eea03d-e82d-4634-d568-e05c3111f5d9",
        "colab": {
          "base_uri": "https://localhost:8080/",
          "height": 34
        }
      },
      "cell_type": "code",
      "source": [
        "test_images.shape"
      ],
      "execution_count": 0,
      "outputs": [
        {
          "output_type": "execute_result",
          "data": {
            "text/plain": [
              "(10000, 28, 28, 1)"
            ]
          },
          "metadata": {
            "tags": []
          },
          "execution_count": 18
        }
      ]
    },
    {
      "metadata": {
        "_uuid": "ac54774270bf749949cd3d3aee34add213ef8b96",
        "id": "5hxPQvyYp0Bp",
        "colab_type": "text"
      },
      "cell_type": "markdown",
      "source": [
        "# Set up datasets for training"
      ]
    },
    {
      "metadata": {
        "id": "iAU2lyAk-ojv",
        "colab_type": "code",
        "colab": {}
      },
      "cell_type": "code",
      "source": [
        "#!rm -r mnist"
      ],
      "execution_count": 0,
      "outputs": []
    },
    {
      "metadata": {
        "trusted": true,
        "_uuid": "a7b1a4c32b46d78a0ed08d4f4a104a42bb62d0f0",
        "id": "hrtrkJP6p0Bq",
        "colab_type": "code",
        "colab": {}
      },
      "cell_type": "code",
      "source": [
        "VALIDATION_SIZE = 500"
      ],
      "execution_count": 0,
      "outputs": []
    },
    {
      "metadata": {
        "trusted": true,
        "_uuid": "a13de7159f444b11897da02d8e3a100f53d695f3",
        "id": "UClhH-1Tp0Bt",
        "colab_type": "code",
        "colab": {}
      },
      "cell_type": "code",
      "source": [
        "validation_images = train_images[:VALIDATION_SIZE]\n",
        "validation_labels = train_labels[:VALIDATION_SIZE]\n",
        "train_images = train_images[VALIDATION_SIZE:]\n",
        "train_labels = train_labels[VALIDATION_SIZE:]"
      ],
      "execution_count": 0,
      "outputs": []
    },
    {
      "metadata": {
        "trusted": true,
        "_uuid": "443873b7da63a44a7f79aa401b92cb57d0232d78",
        "id": "98B2fUaCp0Bv",
        "colab_type": "code",
        "colab": {}
      },
      "cell_type": "code",
      "source": [
        "def preprocess(images):\n",
        "    #normalize\n",
        "    images = images.astype('float32') / 255\n",
        "    return images"
      ],
      "execution_count": 0,
      "outputs": []
    },
    {
      "metadata": {
        "_uuid": "b229ca86c62a7eb9a66b30b298eabae7f5a0b023",
        "trusted": true,
        "id": "HFn2arPwp0Bz",
        "colab_type": "code",
        "colab": {}
      },
      "cell_type": "code",
      "source": [
        "validation_images = preprocess(validation_images)\n",
        "train_images = preprocess(train_images)\n",
        "test_images = preprocess(test_images)"
      ],
      "execution_count": 0,
      "outputs": []
    },
    {
      "metadata": {
        "trusted": true,
        "_uuid": "13284f0cffa1184ea9952789f68e4f33f9940244",
        "id": "cUuutQiAp0B3",
        "colab_type": "code",
        "outputId": "58b3771c-df8d-4314-cdc9-1f76832ad6cd",
        "colab": {
          "base_uri": "https://localhost:8080/",
          "height": 34
        }
      },
      "cell_type": "code",
      "source": [
        "validation_images.shape"
      ],
      "execution_count": 0,
      "outputs": [
        {
          "output_type": "execute_result",
          "data": {
            "text/plain": [
              "(500, 28, 28, 1)"
            ]
          },
          "metadata": {
            "tags": []
          },
          "execution_count": 23
        }
      ]
    },
    {
      "metadata": {
        "trusted": true,
        "_uuid": "c1cec31b164e4d3e88ae43edebba5bbeced9f0fb",
        "id": "sywKi0Uep0B6",
        "colab_type": "code",
        "outputId": "ec42d4b4-3a6a-47b5-ad79-f90b8e86a780",
        "colab": {
          "base_uri": "https://localhost:8080/",
          "height": 34
        }
      },
      "cell_type": "code",
      "source": [
        "train_images.shape"
      ],
      "execution_count": 0,
      "outputs": [
        {
          "output_type": "execute_result",
          "data": {
            "text/plain": [
              "(59500, 28, 28, 1)"
            ]
          },
          "metadata": {
            "tags": []
          },
          "execution_count": 24
        }
      ]
    },
    {
      "metadata": {
        "id": "yUHvqwZLhjp0",
        "colab_type": "text",
        "_uuid": "cfd51adf6ef011d630c6b2d8828183603bf2c428"
      },
      "cell_type": "markdown",
      "source": [
        "# Configure Tensorboard"
      ]
    },
    {
      "metadata": {
        "id": "igdJprdupKyA",
        "colab_type": "text",
        "_uuid": "45924758c4c8363b92b861a36dd10b4060acdcb2"
      },
      "cell_type": "markdown",
      "source": [
        "https://www.dlology.com/blog/quick-guide-to-run-tensorboard-in-google-colab/\n",
        "\n",
        "But there is one thing we need to address first. Your Google Colab virtual machine is running on a local network located in a Google's server room, while your local machine could be anywhere else in the world.\n",
        "\n",
        "How to access the TensorBoard page from our local machine?\n",
        "\n",
        "We are going to use a free service named ngrok to tunnel the connection to your local machine."
      ]
    },
    {
      "metadata": {
        "id": "Tw6XyM-ihhZs",
        "colab_type": "code",
        "outputId": "02dd9566-5e8f-4830-a242-a83baba87b2e",
        "trusted": true,
        "_uuid": "06d3e0afb52325c7eca22a9cef7816743b059c8e",
        "colab": {
          "base_uri": "https://localhost:8080/",
          "height": 235
        }
      },
      "cell_type": "code",
      "source": [
        "!wget https://bin.equinox.io/c/4VmDzA7iaHb/ngrok-stable-linux-amd64.zip\n",
        "!unzip ngrok-stable-linux-amd64.zip"
      ],
      "execution_count": 0,
      "outputs": [
        {
          "output_type": "stream",
          "text": [
            "--2019-01-02 08:52:32--  https://bin.equinox.io/c/4VmDzA7iaHb/ngrok-stable-linux-amd64.zip\n",
            "Resolving bin.equinox.io (bin.equinox.io)... 52.201.75.180, 52.2.175.150, 52.203.102.189, ...\n",
            "Connecting to bin.equinox.io (bin.equinox.io)|52.201.75.180|:443... connected.\n",
            "HTTP request sent, awaiting response... 200 OK\n",
            "Length: 5363700 (5.1M) [application/octet-stream]\n",
            "Saving to: ‘ngrok-stable-linux-amd64.zip’\n",
            "\n",
            "ngrok-stable-linux- 100%[===================>]   5.11M  8.80MB/s    in 0.6s    \n",
            "\n",
            "2019-01-02 08:52:33 (8.80 MB/s) - ‘ngrok-stable-linux-amd64.zip’ saved [5363700/5363700]\n",
            "\n",
            "Archive:  ngrok-stable-linux-amd64.zip\n",
            "  inflating: ngrok                   \n"
          ],
          "name": "stdout"
        }
      ]
    },
    {
      "metadata": {
        "id": "70IytxoasFFQ",
        "colab_type": "text",
        "_uuid": "a70483162956675f271afe9df758f5065df672f5"
      },
      "cell_type": "markdown",
      "source": [
        " let's fire up the TensorBoard in the background like this:"
      ]
    },
    {
      "metadata": {
        "id": "_j4HrGaocUH7",
        "colab_type": "code",
        "colab": {}
      },
      "cell_type": "code",
      "source": [
        "!cp 'mnist/optimized/events.out.tfevents.1546424440.6fd0fa3ef278' 'mnist/training_summaries'"
      ],
      "execution_count": 0,
      "outputs": []
    },
    {
      "metadata": {
        "id": "JYt2pymrrv7F",
        "colab_type": "code",
        "trusted": true,
        "_uuid": "d9612e61cedce144831455b19c966586380e20bb",
        "colab": {}
      },
      "cell_type": "code",
      "source": [
        "LOG_DIR = '.mnist/training_summaries'\n",
        "get_ipython().system_raw(\n",
        "    'tensorboard --logdir {} --host 0.0.0.0 --port 6006 &'\n",
        "    .format(LOG_DIR)\n",
        ")"
      ],
      "execution_count": 0,
      "outputs": []
    },
    {
      "metadata": {
        "id": "DCSHjdCUsDHp",
        "colab_type": "text",
        "_uuid": "8239df5c9e49e2aa1d71809c159d5e19ee9a8dad"
      },
      "cell_type": "markdown",
      "source": [
        "Then, we can run ngrok to tunnel TensorBoard port 6006 to the outside world. This command also runs in the background.\n"
      ]
    },
    {
      "metadata": {
        "id": "hTGd9lMlsdEP",
        "colab_type": "code",
        "trusted": true,
        "_uuid": "e5ba81c56c68ed72f88052c78c9a1efb5d1c366f",
        "colab": {}
      },
      "cell_type": "code",
      "source": [
        "get_ipython().system_raw('./ngrok http 6006 &')"
      ],
      "execution_count": 0,
      "outputs": []
    },
    {
      "metadata": {
        "id": "Kt8r9o3Jsqe7",
        "colab_type": "code",
        "outputId": "e705d07b-b04a-43ee-fa8c-8d1a83d316c4",
        "trusted": true,
        "_uuid": "33f918cf0d4b08dbe42f80f7e690710fd762d55b",
        "colab": {
          "base_uri": "https://localhost:8080/",
          "height": 34
        }
      },
      "cell_type": "code",
      "source": [
        "! curl -s http://localhost:4040/api/tunnels | python3 -c \\\n",
        "    \"import sys, json; print(json.load(sys.stdin)['tunnels'][0]['public_url'])\""
      ],
      "execution_count": 0,
      "outputs": [
        {
          "output_type": "stream",
          "text": [
            "https://e772660d.ngrok.io\n"
          ],
          "name": "stdout"
        }
      ]
    },
    {
      "metadata": {
        "id": "1HWOeW867wmc",
        "colab_type": "code",
        "outputId": "9b5cd75b-6f1c-48e2-c23b-032a274f5c67",
        "colab": {
          "base_uri": "https://localhost:8080/",
          "height": 222
        }
      },
      "cell_type": "code",
      "source": [
        "!wget https://raw.githubusercontent.com/PacktPublishing/TensorFlow-Machine-Learning-Projects/master/Chapter04/Tensorflow_Lite/requirements.txt\n",
        "      "
      ],
      "execution_count": 0,
      "outputs": [
        {
          "output_type": "stream",
          "text": [
            "--2019-01-01 19:49:27--  https://raw.githubusercontent.com/PacktPublishing/TensorFlow-Machine-Learning-Projects/master/Chapter04/Tensorflow_Lite/requirements.txt\n",
            "Resolving raw.githubusercontent.com (raw.githubusercontent.com)... 151.101.0.133, 151.101.64.133, 151.101.128.133, ...\n",
            "Connecting to raw.githubusercontent.com (raw.githubusercontent.com)|151.101.0.133|:443... connected.\n",
            "HTTP request sent, awaiting response... 200 OK\n",
            "Length: 1264 (1.2K) [text/plain]\n",
            "Saving to: ‘requirements.txt’\n",
            "\n",
            "\rrequirements.txt      0%[                    ]       0  --.-KB/s               \rrequirements.txt    100%[===================>]   1.23K  --.-KB/s    in 0s      \n",
            "\n",
            "2019-01-01 19:49:27 (117 MB/s) - ‘requirements.txt’ saved [1264/1264]\n",
            "\n"
          ],
          "name": "stdout"
        }
      ]
    },
    {
      "metadata": {
        "id": "EMiDsbjx8XeM",
        "colab_type": "code",
        "outputId": "a37924b4-bf2f-4e10-8041-05aad6c68731",
        "colab": {
          "base_uri": "https://localhost:8080/",
          "height": 625
        }
      },
      "cell_type": "code",
      "source": [
        "!pip install -r requirements.txt"
      ],
      "execution_count": 0,
      "outputs": [
        {
          "output_type": "stream",
          "text": [
            "Collecting absl-py==0.3.0 (from -r requirements.txt (line 1))\n",
            "\u001b[?25l  Downloading https://files.pythonhosted.org/packages/96/5d/18feb90462c8edaae71305716c7e8bac479fc9dface63221f808a6b95880/absl-py-0.3.0.tar.gz (84kB)\n",
            "\r\u001b[K    12% |████                            | 10kB 23.5MB/s eta 0:00:01\r\u001b[K    24% |███████▉                        | 20kB 3.2MB/s eta 0:00:01\r\u001b[K    36% |███████████▊                    | 30kB 4.6MB/s eta 0:00:01\r\u001b[K    48% |███████████████▋                | 40kB 3.0MB/s eta 0:00:01\r\u001b[K    60% |███████████████████▌            | 51kB 3.7MB/s eta 0:00:01\r\u001b[K    73% |███████████████████████▍        | 61kB 4.4MB/s eta 0:00:01\r\u001b[K    85% |███████████████████████████▎    | 71kB 5.0MB/s eta 0:00:01\r\u001b[K    97% |███████████████████████████████▏| 81kB 5.6MB/s eta 0:00:01\r\u001b[K    100% |████████████████████████████████| 92kB 5.8MB/s \n",
            "\u001b[?25hRequirement already satisfied: astor==0.7.1 in /usr/local/lib/python3.6/dist-packages (from -r requirements.txt (line 2)) (0.7.1)\n",
            "Requirement already satisfied: atomicwrites==1.2.1 in /usr/local/lib/python3.6/dist-packages (from -r requirements.txt (line 3)) (1.2.1)\n",
            "Requirement already satisfied: attrs==18.2.0 in /usr/local/lib/python3.6/dist-packages (from -r requirements.txt (line 4)) (18.2.0)\n",
            "Collecting backports-abc==0.5 (from -r requirements.txt (line 5))\n",
            "  Downloading https://files.pythonhosted.org/packages/7d/56/6f3ac1b816d0cd8994e83d0c4e55bc64567532f7dc543378bd87f81cebc7/backports_abc-0.5-py2.py3-none-any.whl\n",
            "Collecting backports.functools-lru-cache==1.5 (from -r requirements.txt (line 6))\n",
            "  Downloading https://files.pythonhosted.org/packages/03/8e/2424c0e65c4a066e28f539364deee49b6451f8fcd4f718fefa50cc3dcf48/backports.functools_lru_cache-1.5-py2.py3-none-any.whl\n",
            "Requirement already satisfied: backports.weakref==1.0.post1 in /usr/local/lib/python3.6/dist-packages (from -r requirements.txt (line 7)) (1.0.post1)\n",
            "Collecting bleach==1.5.0 (from -r requirements.txt (line 8))\n",
            "  Downloading https://files.pythonhosted.org/packages/33/70/86c5fec937ea4964184d4d6c4f0b9551564f821e1c3575907639036d9b90/bleach-1.5.0-py2.py3-none-any.whl\n",
            "Collecting certifi==2018.10.15 (from -r requirements.txt (line 9))\n",
            "\u001b[?25l  Downloading https://files.pythonhosted.org/packages/56/9d/1d02dd80bc4cd955f98980f28c5ee2200e1209292d5f9e9cc8d030d18655/certifi-2018.10.15-py2.py3-none-any.whl (146kB)\n",
            "\u001b[K    100% |████████████████████████████████| 153kB 11.9MB/s \n",
            "\u001b[?25hRequirement already satisfied: cloudpickle==0.6.1 in /usr/local/lib/python3.6/dist-packages (from -r requirements.txt (line 10)) (0.6.1)\n",
            "Collecting configparser==3.5.0 (from -r requirements.txt (line 11))\n",
            "  Downloading https://files.pythonhosted.org/packages/7c/69/c2ce7e91c89dc073eb1aa74c0621c3eefbffe8216b3f9af9d3885265c01c/configparser-3.5.0.tar.gz\n",
            "Requirement already satisfied: cycler==0.10.0 in /usr/local/lib/python3.6/dist-packages (from -r requirements.txt (line 12)) (0.10.0)\n",
            "Collecting dask==0.19.4 (from -r requirements.txt (line 13))\n",
            "\u001b[?25l  Downloading https://files.pythonhosted.org/packages/86/73/8ffed9140e343455427e92e6a32c354e9acdbef0a23d0e8d6c336d4947e5/dask-0.19.4-py2.py3-none-any.whl (674kB)\n",
            "\u001b[K    100% |████████████████████████████████| 675kB 20.2MB/s \n",
            "\u001b[?25hRequirement already satisfied: decorator==4.3.0 in /usr/local/lib/python3.6/dist-packages (from -r requirements.txt (line 14)) (4.3.0)\n",
            "Collecting enum34==1.1.6 (from -r requirements.txt (line 15))\n",
            "  Downloading https://files.pythonhosted.org/packages/af/42/cb9355df32c69b553e72a2e28daee25d1611d2c0d9c272aa1d34204205b2/enum34-1.1.6-py3-none-any.whl\n",
            "Collecting funcsigs==1.0.2 (from -r requirements.txt (line 16))\n",
            "  Downloading https://files.pythonhosted.org/packages/69/cb/f5be453359271714c01b9bd06126eaf2e368f1fddfff30818754b5ac2328/funcsigs-1.0.2-py2.py3-none-any.whl\n",
            "Collecting functools32==3.2.3.post2 (from -r requirements.txt (line 17))\n",
            "  Downloading https://files.pythonhosted.org/packages/c5/60/6ac26ad05857c601308d8fb9e87fa36d0ebf889423f47c3502ef034365db/functools32-3.2.3-2.tar.gz\n",
            "    Complete output from command python setup.py egg_info:\n",
            "    This backport is for Python 2.7 only.\n",
            "    \n",
            "    ----------------------------------------\n",
            "\u001b[31mCommand \"python setup.py egg_info\" failed with error code 1 in /tmp/pip-install-a2xt4_ef/functools32/\u001b[0m\n"
          ],
          "name": "stdout"
        }
      ]
    },
    {
      "metadata": {
        "id": "iU4FdWKxNXoo",
        "colab_type": "text",
        "_uuid": "20dd00090d796e418967a3959463a7df1f6b56d6"
      },
      "cell_type": "markdown",
      "source": [
        "# Define Model"
      ]
    },
    {
      "metadata": {
        "trusted": true,
        "_uuid": "980cca155ffceb01c95302be1bb0faacc5e04d42",
        "id": "OgZ3uleSp0CI",
        "colab_type": "code",
        "outputId": "b131ea62-d5ec-44c6-fb6e-f33b2c8b7852",
        "colab": {
          "base_uri": "https://localhost:8080/",
          "height": 34
        }
      },
      "cell_type": "code",
      "source": [
        "#import tensorflow as tf\n",
        "#tf.__version__"
      ],
      "execution_count": 0,
      "outputs": [
        {
          "output_type": "execute_result",
          "data": {
            "text/plain": [
              "'1.11.0'"
            ]
          },
          "metadata": {
            "tags": []
          },
          "execution_count": 4
        }
      ]
    },
    {
      "metadata": {
        "id": "_ORfZQyK93Dl",
        "colab_type": "code",
        "outputId": "76431611-b499-4bb5-993f-c70c15843247",
        "colab": {
          "base_uri": "https://localhost:8080/",
          "height": 642
        }
      },
      "cell_type": "code",
      "source": [
        "!pip install tensorflow==1.11.0"
      ],
      "execution_count": 0,
      "outputs": [
        {
          "output_type": "stream",
          "text": [
            "Collecting tensorflow==1.11.0\n",
            "\u001b[?25l  Downloading https://files.pythonhosted.org/packages/ce/d5/38cd4543401708e64c9ee6afa664b936860f4630dd93a49ab863f9998cd2/tensorflow-1.11.0-cp36-cp36m-manylinux1_x86_64.whl (63.0MB)\n",
            "\u001b[K    100% |████████████████████████████████| 63.0MB 656kB/s \n",
            "\u001b[?25hCollecting setuptools<=39.1.0 (from tensorflow==1.11.0)\n",
            "\u001b[?25l  Downloading https://files.pythonhosted.org/packages/8c/10/79282747f9169f21c053c562a0baa21815a8c7879be97abd930dbcf862e8/setuptools-39.1.0-py2.py3-none-any.whl (566kB)\n",
            "\u001b[K    100% |████████████████████████████████| 573kB 18.1MB/s \n",
            "\u001b[?25hRequirement already satisfied: astor>=0.6.0 in /usr/local/lib/python3.6/dist-packages (from tensorflow==1.11.0) (0.7.1)\n",
            "Requirement already satisfied: six>=1.10.0 in /usr/local/lib/python3.6/dist-packages (from tensorflow==1.11.0) (1.11.0)\n",
            "Requirement already satisfied: absl-py>=0.1.6 in /usr/local/lib/python3.6/dist-packages (from tensorflow==1.11.0) (0.6.1)\n",
            "Requirement already satisfied: keras-applications>=1.0.5 in /usr/local/lib/python3.6/dist-packages (from tensorflow==1.11.0) (1.0.6)\n",
            "Requirement already satisfied: numpy>=1.13.3 in /usr/local/lib/python3.6/dist-packages (from tensorflow==1.11.0) (1.14.6)\n",
            "Requirement already satisfied: protobuf>=3.6.0 in /usr/local/lib/python3.6/dist-packages (from tensorflow==1.11.0) (3.6.1)\n",
            "Collecting tensorboard<1.12.0,>=1.11.0 (from tensorflow==1.11.0)\n",
            "\u001b[?25l  Downloading https://files.pythonhosted.org/packages/9b/2f/4d788919b1feef04624d63ed6ea45a49d1d1c834199ec50716edb5d310f4/tensorboard-1.11.0-py3-none-any.whl (3.0MB)\n",
            "\u001b[K    100% |████████████████████████████████| 3.0MB 11.1MB/s \n",
            "\u001b[?25hRequirement already satisfied: keras-preprocessing>=1.0.3 in /usr/local/lib/python3.6/dist-packages (from tensorflow==1.11.0) (1.0.5)\n",
            "Requirement already satisfied: termcolor>=1.1.0 in /usr/local/lib/python3.6/dist-packages (from tensorflow==1.11.0) (1.1.0)\n",
            "Requirement already satisfied: grpcio>=1.8.6 in /usr/local/lib/python3.6/dist-packages (from tensorflow==1.11.0) (1.15.0)\n",
            "Requirement already satisfied: gast>=0.2.0 in /usr/local/lib/python3.6/dist-packages (from tensorflow==1.11.0) (0.2.0)\n",
            "Requirement already satisfied: wheel>=0.26 in /usr/local/lib/python3.6/dist-packages (from tensorflow==1.11.0) (0.32.3)\n",
            "Requirement already satisfied: h5py in /usr/local/lib/python3.6/dist-packages (from keras-applications>=1.0.5->tensorflow==1.11.0) (2.8.0)\n",
            "Requirement already satisfied: markdown>=2.6.8 in /usr/local/lib/python3.6/dist-packages (from tensorboard<1.12.0,>=1.11.0->tensorflow==1.11.0) (3.0.1)\n",
            "Requirement already satisfied: werkzeug>=0.11.10 in /usr/local/lib/python3.6/dist-packages (from tensorboard<1.12.0,>=1.11.0->tensorflow==1.11.0) (0.14.1)\n",
            "\u001b[31mmagenta 0.3.19 has requirement tensorflow>=1.12.0, but you'll have tensorflow 1.11.0 which is incompatible.\u001b[0m\n",
            "\u001b[31mcufflinks 0.14.6 has requirement plotly>=3.0.0, but you'll have plotly 1.12.12 which is incompatible.\u001b[0m\n",
            "Installing collected packages: setuptools, tensorboard, tensorflow\n",
            "  Found existing installation: setuptools 40.6.3\n",
            "    Uninstalling setuptools-40.6.3:\n",
            "      Successfully uninstalled setuptools-40.6.3\n",
            "  Found existing installation: tensorboard 1.12.1\n",
            "    Uninstalling tensorboard-1.12.1:\n",
            "      Successfully uninstalled tensorboard-1.12.1\n",
            "  Found existing installation: tensorflow 1.12.0\n",
            "    Uninstalling tensorflow-1.12.0:\n",
            "      Successfully uninstalled tensorflow-1.12.0\n",
            "Successfully installed setuptools-39.1.0 tensorboard-1.11.0 tensorflow-1.11.0\n"
          ],
          "name": "stdout"
        }
      ]
    },
    {
      "metadata": {
        "id": "GS84bc3uE1hQ",
        "colab_type": "code",
        "outputId": "558c10ee-0a16-41c8-9181-5aa264916047",
        "trusted": true,
        "_uuid": "acd951506a28f3ac57572118c79a10314c5fb434",
        "colab": {
          "base_uri": "https://localhost:8080/",
          "height": 34
        }
      },
      "cell_type": "code",
      "source": [
        "import keras\n",
        "from keras.datasets import mnist\n",
        "from keras.models import Sequential\n",
        "from keras.layers import Dense, Dropout, Flatten\n",
        "from keras.layers import Conv2D, MaxPooling2D,Activation\n",
        "from keras.callbacks import TensorBoard\n",
        "from keras import backend as K\n",
        "\n",
        "K.set_learning_phase(1) #set learning phase"
      ],
      "execution_count": 0,
      "outputs": [
        {
          "output_type": "stream",
          "text": [
            "Using TensorFlow backend.\n"
          ],
          "name": "stderr"
        }
      ]
    },
    {
      "metadata": {
        "trusted": true,
        "_uuid": "3df01e947d8277eb8f67ed661030f3c43183ebe6",
        "id": "Rn9WYqFmp0CO",
        "colab_type": "code",
        "colab": {}
      },
      "cell_type": "code",
      "source": [
        "BATCH_SIZE = 128\n",
        "EPOCHS = 15"
      ],
      "execution_count": 0,
      "outputs": []
    },
    {
      "metadata": {
        "id": "aBln7ng0E2mM",
        "colab_type": "code",
        "trusted": true,
        "_uuid": "52685cfa100b7667ba5c5ea8f09964974cfcd86b",
        "colab": {}
      },
      "cell_type": "code",
      "source": [
        "class Model():\n",
        "    def __init__(self, x_train, y_train, x_test, y_test):\n",
        "        self.x_train, self.x_test,self.y_train, self.y_test = x_train, x_test, y_train, y_test\n",
        "        model = Sequential()\n",
        "        model.add(Conv2D(32, kernel_size=(3, 3),\n",
        "                         activation='relu',\n",
        "                         input_shape=(28,28,1)))\n",
        "        model.add(Conv2D(64, (3, 3), activation='relu'))\n",
        "        model.add(MaxPooling2D(pool_size=(2, 2)))\n",
        "        model.add(Dropout(0.25))\n",
        "        model.add(Flatten())\n",
        "        model.add(Dense(128, activation='relu'))\n",
        "        model.add(Dropout(0.5))\n",
        "        model.add(Dense(10))\n",
        "        model.add(Activation('softmax', name = 'softmax_tensor'))\n",
        "\n",
        "        model.compile(loss=keras.losses.categorical_crossentropy,\n",
        "                      optimizer=keras.optimizers.Adadelta(),\n",
        "                      metrics=['accuracy'])\n",
        "        tensorboard = TensorBoard(log_dir='./mnist/training_summaries')\n",
        "        self.model = model\n",
        "        self.tensorboard = tensorboard\n",
        "\n",
        "    def train(self):\n",
        "        self.model.fit(self.x_train, self.y_train,\n",
        "                  batch_size=BATCH_SIZE,\n",
        "                  epochs=EPOCHS,\n",
        "                  verbose=1,\n",
        "                  validation_data=(self.x_test, self.y_test),\n",
        "                       callbacks = [self.tensorboard])\n",
        "        score = self.model.evaluate(self.x_test, self.y_test, verbose=0)\n",
        "        print('Test loss:', score[0])\n",
        "        print('Test accuracy:', score[1])"
      ],
      "execution_count": 0,
      "outputs": []
    },
    {
      "metadata": {
        "id": "1H0lpOuqEvFY",
        "colab_type": "code",
        "trusted": true,
        "_uuid": "437d2f729fab9bf0fe2e7d37abcb39ce72e3b90b",
        "colab": {}
      },
      "cell_type": "code",
      "source": [
        "model = Model(train_images, train_labels, validation_images, validation_labels)"
      ],
      "execution_count": 0,
      "outputs": []
    },
    {
      "metadata": {
        "id": "33PeEAwWanS4",
        "colab_type": "code",
        "outputId": "24a4d2e9-60fa-4b7e-d340-1ef948401e91",
        "trusted": true,
        "_uuid": "b3c0c2e0e372183c52ef2644ce05d3e297eeab1c",
        "colab": {
          "base_uri": "https://localhost:8080/",
          "height": 437
        }
      },
      "cell_type": "code",
      "source": [
        "model.model.summary()"
      ],
      "execution_count": 0,
      "outputs": [
        {
          "output_type": "stream",
          "text": [
            "_________________________________________________________________\n",
            "Layer (type)                 Output Shape              Param #   \n",
            "=================================================================\n",
            "conv2d_1 (Conv2D)            (None, 26, 26, 32)        320       \n",
            "_________________________________________________________________\n",
            "conv2d_2 (Conv2D)            (None, 24, 24, 64)        18496     \n",
            "_________________________________________________________________\n",
            "max_pooling2d_1 (MaxPooling2 (None, 12, 12, 64)        0         \n",
            "_________________________________________________________________\n",
            "dropout_1 (Dropout)          (None, 12, 12, 64)        0         \n",
            "_________________________________________________________________\n",
            "flatten_1 (Flatten)          (None, 9216)              0         \n",
            "_________________________________________________________________\n",
            "dense_1 (Dense)              (None, 128)               1179776   \n",
            "_________________________________________________________________\n",
            "dropout_2 (Dropout)          (None, 128)               0         \n",
            "_________________________________________________________________\n",
            "dense_2 (Dense)              (None, 10)                1290      \n",
            "_________________________________________________________________\n",
            "softmax_tensor (Activation)  (None, 10)                0         \n",
            "=================================================================\n",
            "Total params: 1,199,882\n",
            "Trainable params: 1,199,882\n",
            "Non-trainable params: 0\n",
            "_________________________________________________________________\n"
          ],
          "name": "stdout"
        }
      ]
    },
    {
      "metadata": {
        "id": "pn7hNsy5M38j",
        "colab_type": "code",
        "trusted": true,
        "_uuid": "e8d093df0bab8b08676eeefdafc60063b1fcbee5",
        "outputId": "687373b9-b6c2-49bd-bc09-89e09bdd2d33",
        "colab": {
          "base_uri": "https://localhost:8080/",
          "height": 571
        }
      },
      "cell_type": "code",
      "source": [
        "#training model\n",
        "model.train()"
      ],
      "execution_count": 0,
      "outputs": [
        {
          "output_type": "stream",
          "text": [
            "Train on 59500 samples, validate on 500 samples\n",
            "Epoch 1/15\n",
            "59500/59500 [==============================] - 11s 185us/step - loss: 0.2655 - acc: 0.9191 - val_loss: 0.1321 - val_acc: 0.9720\n",
            "Epoch 2/15\n",
            "59500/59500 [==============================] - 8s 141us/step - loss: 0.0877 - acc: 0.9743 - val_loss: 0.1003 - val_acc: 0.9660\n",
            "Epoch 3/15\n",
            "59500/59500 [==============================] - 8s 141us/step - loss: 0.0652 - acc: 0.9801 - val_loss: 0.0764 - val_acc: 0.9880\n",
            "Epoch 4/15\n",
            "59500/59500 [==============================] - 8s 141us/step - loss: 0.0523 - acc: 0.9837 - val_loss: 0.1093 - val_acc: 0.9760\n",
            "Epoch 5/15\n",
            "59500/59500 [==============================] - 8s 141us/step - loss: 0.0469 - acc: 0.9862 - val_loss: 0.0572 - val_acc: 0.9780\n",
            "Epoch 6/15\n",
            "59500/59500 [==============================] - 8s 140us/step - loss: 0.0408 - acc: 0.9874 - val_loss: 0.0888 - val_acc: 0.9800\n",
            "Epoch 7/15\n",
            "59500/59500 [==============================] - 8s 140us/step - loss: 0.0385 - acc: 0.9885 - val_loss: 0.0797 - val_acc: 0.9760\n",
            "Epoch 8/15\n",
            "59500/59500 [==============================] - 8s 140us/step - loss: 0.0333 - acc: 0.9903 - val_loss: 0.0665 - val_acc: 0.9860\n",
            "Epoch 9/15\n",
            "59500/59500 [==============================] - 8s 140us/step - loss: 0.0313 - acc: 0.9904 - val_loss: 0.0767 - val_acc: 0.9820\n",
            "Epoch 10/15\n",
            "59500/59500 [==============================] - 8s 140us/step - loss: 0.0298 - acc: 0.9909 - val_loss: 0.0649 - val_acc: 0.9840\n",
            "Epoch 11/15\n",
            "59500/59500 [==============================] - 8s 141us/step - loss: 0.0278 - acc: 0.9915 - val_loss: 0.0600 - val_acc: 0.9900\n",
            "Epoch 12/15\n",
            "59500/59500 [==============================] - 8s 140us/step - loss: 0.0262 - acc: 0.9919 - val_loss: 0.0706 - val_acc: 0.9840\n",
            "Epoch 13/15\n",
            "59500/59500 [==============================] - 8s 140us/step - loss: 0.0245 - acc: 0.9921 - val_loss: 0.0934 - val_acc: 0.9720\n",
            "Epoch 14/15\n",
            "59500/59500 [==============================] - 8s 141us/step - loss: 0.0228 - acc: 0.9927 - val_loss: 0.0783 - val_acc: 0.9800\n",
            "Epoch 15/15\n",
            "59500/59500 [==============================] - 8s 141us/step - loss: 0.0235 - acc: 0.9930 - val_loss: 0.0846 - val_acc: 0.9820\n",
            "Test loss: 0.04230821685492992\n",
            "Test accuracy: 0.9919999995231629\n"
          ],
          "name": "stdout"
        }
      ]
    },
    {
      "metadata": {
        "id": "B0-LHgrjH_WL",
        "colab_type": "code",
        "outputId": "20667a7d-0058-4525-90e7-49c5d3aa0adc",
        "trusted": true,
        "_uuid": "9d8f938219b7beba6417614516e258f7f11af6fc",
        "colab": {
          "base_uri": "https://localhost:8080/",
          "height": 34
        }
      },
      "cell_type": "code",
      "source": [
        "#Final test accuracy \n",
        "test_images.shape"
      ],
      "execution_count": 0,
      "outputs": [
        {
          "output_type": "execute_result",
          "data": {
            "text/plain": [
              "(10000, 28, 28, 1)"
            ]
          },
          "metadata": {
            "tags": []
          },
          "execution_count": 21
        }
      ]
    },
    {
      "metadata": {
        "trusted": true,
        "_uuid": "c8164404da5edfd7cbcf78f6294ba8aebd377f14",
        "id": "fEE1pkdWp0CZ",
        "colab_type": "code",
        "outputId": "27f42e28-49bc-4f95-e2e5-5e95ab24027b",
        "colab": {
          "base_uri": "https://localhost:8080/",
          "height": 34
        }
      },
      "cell_type": "code",
      "source": [
        "model.model.evaluate(test_images, test_labels, verbose=2)"
      ],
      "execution_count": 0,
      "outputs": [
        {
          "output_type": "execute_result",
          "data": {
            "text/plain": [
              "[0.04249054270761844, 0.9885]"
            ]
          },
          "metadata": {
            "tags": []
          },
          "execution_count": 22
        }
      ]
    },
    {
      "metadata": {
        "trusted": true,
        "_uuid": "034feea3e3d29b0917e00d75a52715324817f4b8",
        "id": "2ymi6xYLp0Ca",
        "colab_type": "code",
        "colab": {}
      },
      "cell_type": "code",
      "source": [
        "FREEZE_FILE_NAME = 'MNIST_model.pb'\n",
        "OPTIMIZE_FILE_NAME = 'MNIST_optimized.pb'\n",
        "freeze_graph_dir = os.path.join('mnist', \"freeze\")\n",
        "if not os.path.exists(freeze_graph_dir): os.makedirs(freeze_graph_dir)\n",
        "optimized_graph_dir = os.path.join(\"mnist\", \"optimized\")\n",
        "if not os.path.exists(optimized_graph_dir): os.makedirs(optimized_graph_dir)"
      ],
      "execution_count": 0,
      "outputs": []
    },
    {
      "metadata": {
        "_uuid": "7bc802bd83445852740bc7936260e12e84159521",
        "id": "_w0VkQVap0Cb",
        "colab_type": "text"
      },
      "cell_type": "markdown",
      "source": [
        " # Freeze Graph\n",
        " https://github.com/PacktPublishing/TensorFlow-Machine-Learning-Projects/blob/master/Chapter04/Tensorflow_Lite/utils.py\n"
      ]
    },
    {
      "metadata": {
        "trusted": true,
        "_uuid": "fe0d92937435eb349cbc8c7fb1976a2849463336",
        "id": "rQ6O4BNRp0Cd",
        "colab_type": "code",
        "colab": {}
      },
      "cell_type": "code",
      "source": [
        "import tensorflow as tf\n",
        "from tensorflow.python.platform import gfile\n",
        "from tensorflow.core.framework import graph_pb2\n",
        "from tensorflow.core.framework import node_def_pb2\n",
        "from tensorflow.python.framework.graph_util import convert_variables_to_constants\n",
        "def freeze_session(session, keep_var_names=None, output_names=None, clear_devices=True):\n",
        "    \"\"\"\n",
        "    Freezes the state of a session into a pruned computation graph.\n",
        "    Converts the existing graph into a new graph where variable nodes are replaced by\n",
        "    constants. New graph trims the existing graph of any operations which are not required\n",
        "    to compute the requested output.\n",
        "    outputs are removed.\n",
        "    @param session The TensorFlow session to be frozen.\n",
        "    @param keep_var_names A list of variable names that should not be frozen,\n",
        "                          or None to freeze all the variables in the graph.\n",
        "    @param output_names Names of the relevant graph outputs.\n",
        "    @param clear_devices Remove the device directives from the graph for better portability.\n",
        "    @return The frozen graph definition.\n",
        "    \"\"\"\n",
        "\n",
        "    graph = session.graph\n",
        "    with graph.as_default():\n",
        "        freeze_var_names = list(set(v.op.name for v in tf.global_variables()).difference(keep_var_names or []))\n",
        "        output_names = output_names or []\n",
        "        output_names += [v.op.name for v in tf.global_variables()]\n",
        "        input_graph_def = graph.as_graph_def()\n",
        "        if clear_devices:\n",
        "            for node in input_graph_def.node:\n",
        "                node.device = \"\"\n",
        "        frozen_graph = convert_variables_to_constants(session, input_graph_def,\n",
        "                                                      output_names, freeze_var_names)\n",
        "        return frozen_graph\n",
        "\n",
        "def create_frozen_graph(sess,output_name,freeze_graph_dir):\n",
        "    frozen_graph = freeze_session(sess,\n",
        "                                  output_names=output_name)\n",
        "    tf.train.write_graph(frozen_graph, freeze_graph_dir, FREEZE_FILE_NAME , as_text=False)"
      ],
      "execution_count": 0,
      "outputs": []
    },
    {
      "metadata": {
        "trusted": true,
        "_uuid": "583de57309f6132915b8cf35f43a33007b0a32dc",
        "id": "5wot7BHop0Ce",
        "colab_type": "code",
        "outputId": "ccad33cc-7bc6-44d9-b47f-d45a7b029b9b",
        "colab": {
          "base_uri": "https://localhost:8080/",
          "height": 50
        }
      },
      "cell_type": "code",
      "source": [
        "sess = K.get_session()\n",
        "create_frozen_graph(sess, ['softmax_tensor/Softmax'],'mnist/freeze')"
      ],
      "execution_count": 0,
      "outputs": [
        {
          "output_type": "stream",
          "text": [
            "INFO:tensorflow:Froze 27 variables.\n",
            "INFO:tensorflow:Converted 27 variables to const ops.\n"
          ],
          "name": "stdout"
        }
      ]
    },
    {
      "metadata": {
        "trusted": true,
        "_uuid": "3f20e31dcc621203e57110d75930bb283323471d",
        "id": "xJY55ullp0Cg",
        "colab_type": "code",
        "outputId": "2c2697f3-2c63-4c1b-c20d-b9fbbb262532",
        "colab": {
          "base_uri": "https://localhost:8080/",
          "height": 34
        }
      },
      "cell_type": "code",
      "source": [
        "!ls mnist/freeze"
      ],
      "execution_count": 0,
      "outputs": [
        {
          "output_type": "stream",
          "text": [
            "MNIST_model.pb\n"
          ],
          "name": "stdout"
        }
      ]
    },
    {
      "metadata": {
        "id": "lFFjNXfOaivw",
        "colab_type": "code",
        "trusted": true,
        "_uuid": "c48faf9ac61efc9beb2e2127b6bf8ee0235ae5a5",
        "colab": {}
      },
      "cell_type": "code",
      "source": [
        "#https://medium.com/google-cloud/optimizing-tensorflow-models-for-serving-959080e9ddbf\n",
        "def get_size(model_dir, model_file='saved_model.pb'):\n",
        "\n",
        "  model_file_path = os.path.join(model_dir, model_file)\n",
        "\n",
        "  print(model_file_path, '')\n",
        "\n",
        "  pb_size = os.path.getsize(model_file_path)\n",
        "\n",
        "  variables_size = 0\n",
        "\n",
        "  if os.path.exists(\n",
        "\n",
        "      os.path.join(model_dir,'variables/variables.data-00000-of-00001')):\n",
        "\n",
        "    variables_size = os.path.getsize(os.path.join(\n",
        "\n",
        "        model_dir,'variables/variables.data-00000-of-00001'))\n",
        "\n",
        "    variables_size += os.path.getsize(os.path.join(\n",
        "\n",
        "        model_dir,'variables/variables.index'))\n",
        "\n",
        "  print('Model size: {} KB'.format(round(pb_size/(1024.0),3)))\n",
        "\n",
        "  print('Variables size: {} KB'.format(round( variables_size/(1024.0),3)))\n",
        "\n",
        "  print('Total Size: {} KB'.format(round((pb_size + variables_size)/(1024.0),3)))"
      ],
      "execution_count": 0,
      "outputs": []
    },
    {
      "metadata": {
        "id": "rKi7_rPbIke7",
        "colab_type": "code",
        "outputId": "c9f18e3c-68f8-4c11-a469-952b918927ab",
        "trusted": true,
        "_uuid": "d3a25a0297e361e7bb10cfdeb2b816a55e4b11c4",
        "colab": {
          "base_uri": "https://localhost:8080/",
          "height": 84
        }
      },
      "cell_type": "code",
      "source": [
        "get_size('mnist', 'freeze/MNIST_model.pb' )"
      ],
      "execution_count": 0,
      "outputs": [
        {
          "output_type": "stream",
          "text": [
            "mnist/freeze/MNIST_model.pb \n",
            "Model size: 14068.897 KB\n",
            "Variables size: 0.0 KB\n",
            "Total Size: 14068.897 KB\n"
          ],
          "name": "stdout"
        }
      ]
    },
    {
      "metadata": {
        "_uuid": "6cc3329f7b1f7f7c61edb326d1c0f5fb0f5ef38e",
        "id": "J8eNMWSbp0Cm",
        "colab_type": "text"
      },
      "cell_type": "markdown",
      "source": [
        "# Converting Frozen Graph To Tensorboard compatible file"
      ]
    },
    {
      "metadata": {
        "id": "POn10UTSPMpG",
        "colab_type": "code",
        "trusted": true,
        "_uuid": "7c31fe41dd4c99af6731a8f4d433ee800845fa62",
        "colab": {}
      },
      "cell_type": "code",
      "source": [
        "def pb_to_tensorboard(input_graph_dir,graph_type =\"freeze\"):\n",
        "    '''\n",
        "    Converts the graph \".pb\" file to Tensorboard readable format\n",
        "    :param input_graph_dir: Directory where the graph file is stored\n",
        "    :param graph_type: \"freeze\" or \"optimize\" depending on the operation.\n",
        "    :return: Saves the file in the folder which can be opened through Tensorboard\n",
        "    '''\n",
        "    file_name = \"\"\n",
        "    if graph_type == \"freeze\":\n",
        "        file_name = FREEZE_FILE_NAME\n",
        "    elif graph_type == \"optimize\":\n",
        "        #file_name = OPTIMIZE_FILE_NAME\n",
        "        file_name = 'opt_mnist_graph.pb'\n",
        "\n",
        "    with tf.Session() as sess:\n",
        "        model_filename = input_graph_dir + \"/\" + file_name\n",
        "        with gfile.FastGFile(model_filename, 'rb') as f:\n",
        "            graph_def = tf.GraphDef()\n",
        "            graph_def.ParseFromString(f.read())\n",
        "            #g_in = tf.import_graph_def(graph_def)\n",
        "    train_writer = tf.summary.FileWriter(input_graph_dir)\n",
        "    train_writer.add_graph(sess.graph)   "
      ],
      "execution_count": 0,
      "outputs": []
    },
    {
      "metadata": {
        "id": "2Lp9U7CgRQgx",
        "colab_type": "code",
        "trusted": true,
        "_uuid": "9881fed60636acc863b0fd37a40a87a4b9f7f57c",
        "colab": {}
      },
      "cell_type": "code",
      "source": [
        "pb_to_tensorboard('mnist/freeze', \"freeze\")"
      ],
      "execution_count": 0,
      "outputs": []
    },
    {
      "metadata": {
        "trusted": true,
        "_uuid": "2d8f9e1e48e0e22380b2a53802806ddd6b9bdac1",
        "id": "mKGSr9gRp0Cr",
        "colab_type": "code",
        "outputId": "0403fd2d-312a-48dd-923f-8a15d13f339b",
        "colab": {
          "base_uri": "https://localhost:8080/",
          "height": 34
        }
      },
      "cell_type": "code",
      "source": [
        "!ls mnist/freeze"
      ],
      "execution_count": 0,
      "outputs": [
        {
          "output_type": "stream",
          "text": [
            "events.out.tfevents.1546379044.7fb6f1289ff9  MNIST_model.pb\n"
          ],
          "name": "stdout"
        }
      ]
    },
    {
      "metadata": {
        "id": "tIqomEVsnbKe",
        "colab_type": "text",
        "_uuid": "b9a2730ddfb5b4d3540cbda393e3be664d4ebcb9"
      },
      "cell_type": "markdown",
      "source": [
        "# Optimize graph"
      ]
    },
    {
      "metadata": {
        "colab_type": "code",
        "outputId": "a740e8fc-b286-4c72-a1d5-ec70a21a86a8",
        "id": "eVIG3wmJ8VUD",
        "colab": {
          "base_uri": "https://localhost:8080/",
          "height": 202
        }
      },
      "cell_type": "code",
      "source": [
        "!wget https://raw.githubusercontent.com/tensorflow/tensorflow/master/tensorflow/python/tools/optimize_for_inference.py"
      ],
      "execution_count": 0,
      "outputs": [
        {
          "output_type": "stream",
          "text": [
            "--2019-01-02 09:34:37--  https://raw.githubusercontent.com/tensorflow/tensorflow/master/tensorflow/python/tools/optimize_for_inference.py\n",
            "Resolving raw.githubusercontent.com (raw.githubusercontent.com)... 151.101.0.133, 151.101.64.133, 151.101.128.133, ...\n",
            "Connecting to raw.githubusercontent.com (raw.githubusercontent.com)|151.101.0.133|:443... connected.\n",
            "HTTP request sent, awaiting response... 200 OK\n",
            "Length: 5273 (5.1K) [text/plain]\n",
            "Saving to: ‘optimize_for_inference.py’\n",
            "\n",
            "\r          optimize_   0%[                    ]       0  --.-KB/s               \roptimize_for_infere 100%[===================>]   5.15K  --.-KB/s    in 0s      \n",
            "\n",
            "2019-01-02 09:34:37 (53.3 MB/s) - ‘optimize_for_inference.py’ saved [5273/5273]\n",
            "\n"
          ],
          "name": "stdout"
        }
      ]
    },
    {
      "metadata": {
        "colab_type": "code",
        "id": "UKs9ZUj58VUG",
        "colab": {}
      },
      "cell_type": "code",
      "source": [
        "!python optimize_for_inference.py \\\n",
        "--input=mnist/freeze/MNIST_model.pb \\\n",
        "--output=mnist/opt_mnist_graph.pb \\\n",
        "--frozen_graph=True \\\n",
        "--input_names=conv2d_1_input \\\n",
        "--output_names=softmax_tensor/Softmax"
      ],
      "execution_count": 0,
      "outputs": []
    },
    {
      "metadata": {
        "id": "6ua6fntNCahR",
        "colab_type": "code",
        "outputId": "191bb841-38f0-4502-8bc7-81e5f69385bf",
        "colab": {
          "base_uri": "https://localhost:8080/",
          "height": 222
        }
      },
      "cell_type": "code",
      "source": [
        "!wget https://raw.githubusercontent.com/tensorflow/tensorflow/master/tensorflow/python/tools/import_pb_to_tensorboard.py"
      ],
      "execution_count": 0,
      "outputs": [
        {
          "output_type": "stream",
          "text": [
            "--2019-01-02 10:10:02--  https://raw.githubusercontent.com/tensorflow/tensorflow/master/tensorflow/python/tools/import_pb_to_tensorboard.py\n",
            "Resolving raw.githubusercontent.com (raw.githubusercontent.com)... 151.101.0.133, 151.101.64.133, 151.101.128.133, ...\n",
            "Connecting to raw.githubusercontent.com (raw.githubusercontent.com)|151.101.0.133|:443... connected.\n",
            "HTTP request sent, awaiting response... 200 OK\n",
            "Length: 3180 (3.1K) [text/plain]\n",
            "Saving to: ‘import_pb_to_tensorboard.py’\n",
            "\n",
            "\r          import_pb   0%[                    ]       0  --.-KB/s               \rimport_pb_to_tensor 100%[===================>]   3.11K  --.-KB/s    in 0s      \n",
            "\n",
            "2019-01-02 10:10:02 (58.8 MB/s) - ‘import_pb_to_tensorboard.py’ saved [3180/3180]\n",
            "\n"
          ],
          "name": "stdout"
        }
      ]
    },
    {
      "metadata": {
        "id": "HYRVJFZRDFCg",
        "colab_type": "code",
        "colab": {}
      },
      "cell_type": "code",
      "source": [
        "!cp 'mnist/opt_mnist_graph.pb' 'mnist/optimized'"
      ],
      "execution_count": 0,
      "outputs": []
    },
    {
      "metadata": {
        "id": "9iAeWBB8gReV",
        "colab_type": "code",
        "outputId": "498726ca-3112-402e-f4b3-36f42cf448ab",
        "colab": {
          "base_uri": "https://localhost:8080/",
          "height": 70
        }
      },
      "cell_type": "code",
      "source": [
        "!python import_pb_to_tensorboard.py --model_dir 'mnist/optimized/opt_mnist_graph.pb'\\\n",
        "                                    --log_dir 'mnist/optimized/'"
      ],
      "execution_count": 0,
      "outputs": [
        {
          "output_type": "stream",
          "text": [
            "2019-01-02 10:20:40.570302: I tensorflow/core/platform/cpu_feature_guard.cc:141] Your CPU supports instructions that this TensorFlow binary was not compiled to use: AVX2 FMA\n",
            "Model Imported. Visualize by running: tensorboard --logdir=mnist/optimized/\n"
          ],
          "name": "stdout"
        }
      ]
    },
    {
      "metadata": {
        "id": "Hg7lGL9Wh-LM",
        "colab_type": "code",
        "outputId": "ee480bac-0fc6-4492-8a9e-1e178140d8de",
        "colab": {
          "base_uri": "https://localhost:8080/",
          "height": 84
        }
      },
      "cell_type": "code",
      "source": [
        "get_size('mnist', 'opt_mnist_graph.pb' )"
      ],
      "execution_count": 0,
      "outputs": [
        {
          "output_type": "stream",
          "text": [
            "mnist/opt_mnist_graph.pb \n",
            "Model size: 4692.504 KB\n",
            "Variables size: 0.0 KB\n",
            "Total Size: 4692.504 KB\n"
          ],
          "name": "stdout"
        }
      ]
    },
    {
      "metadata": {
        "id": "3_Q8sJ31dVKl",
        "colab_type": "text"
      },
      "cell_type": "markdown",
      "source": [
        "# Convert to tflite"
      ]
    },
    {
      "metadata": {
        "id": "ZmikiBHusGKx",
        "colab_type": "code",
        "outputId": "3c4bc581-3940-4b32-8095-5dd14d982b06",
        "colab": {
          "base_uri": "https://localhost:8080/",
          "height": 524
        }
      },
      "cell_type": "code",
      "source": [
        "!pip install tensorflow==1.12.0"
      ],
      "execution_count": 0,
      "outputs": [
        {
          "output_type": "stream",
          "text": [
            "Collecting tensorflow==1.12.0\n",
            "\u001b[?25l  Downloading https://files.pythonhosted.org/packages/22/cc/ca70b78087015d21c5f3f93694107f34ebccb3be9624385a911d4b52ecef/tensorflow-1.12.0-cp36-cp36m-manylinux1_x86_64.whl (83.1MB)\n",
            "\u001b[K    100% |████████████████████████████████| 83.1MB 378kB/s \n",
            "\u001b[?25hRequirement already satisfied: astor>=0.6.0 in /usr/local/lib/python3.6/dist-packages (from tensorflow==1.12.0) (0.7.1)\n",
            "Requirement already satisfied: six>=1.10.0 in /usr/local/lib/python3.6/dist-packages (from tensorflow==1.12.0) (1.11.0)\n",
            "Collecting tensorboard<1.13.0,>=1.12.0 (from tensorflow==1.12.0)\n",
            "\u001b[?25l  Downloading https://files.pythonhosted.org/packages/bd/7e/528c868bb8a0542c8a5686ff3a08502d2691bd50499c6e55f8989fa8e5a0/tensorboard-1.12.1-py3-none-any.whl (3.0MB)\n",
            "\u001b[K    100% |████████████████████████████████| 3.1MB 7.6MB/s \n",
            "\u001b[?25hRequirement already satisfied: gast>=0.2.0 in /usr/local/lib/python3.6/dist-packages (from tensorflow==1.12.0) (0.2.0)\n",
            "Requirement already satisfied: protobuf>=3.6.1 in /usr/local/lib/python3.6/dist-packages (from tensorflow==1.12.0) (3.6.1)\n",
            "Requirement already satisfied: absl-py>=0.1.6 in /usr/local/lib/python3.6/dist-packages (from tensorflow==1.12.0) (0.6.1)\n",
            "Requirement already satisfied: keras-applications>=1.0.6 in /usr/local/lib/python3.6/dist-packages (from tensorflow==1.12.0) (1.0.6)\n",
            "Requirement already satisfied: keras-preprocessing>=1.0.5 in /usr/local/lib/python3.6/dist-packages (from tensorflow==1.12.0) (1.0.5)\n",
            "Requirement already satisfied: termcolor>=1.1.0 in /usr/local/lib/python3.6/dist-packages (from tensorflow==1.12.0) (1.1.0)\n",
            "Requirement already satisfied: grpcio>=1.8.6 in /usr/local/lib/python3.6/dist-packages (from tensorflow==1.12.0) (1.15.0)\n",
            "Requirement already satisfied: numpy>=1.13.3 in /usr/local/lib/python3.6/dist-packages (from tensorflow==1.12.0) (1.14.6)\n",
            "Requirement already satisfied: wheel>=0.26 in /usr/local/lib/python3.6/dist-packages (from tensorflow==1.12.0) (0.32.3)\n",
            "Requirement already satisfied: werkzeug>=0.11.10 in /usr/local/lib/python3.6/dist-packages (from tensorboard<1.13.0,>=1.12.0->tensorflow==1.12.0) (0.14.1)\n",
            "Requirement already satisfied: markdown>=2.6.8 in /usr/local/lib/python3.6/dist-packages (from tensorboard<1.13.0,>=1.12.0->tensorflow==1.12.0) (3.0.1)\n",
            "Requirement already satisfied: setuptools in /usr/local/lib/python3.6/dist-packages (from protobuf>=3.6.1->tensorflow==1.12.0) (39.1.0)\n",
            "Requirement already satisfied: h5py in /usr/local/lib/python3.6/dist-packages (from keras-applications>=1.0.6->tensorflow==1.12.0) (2.8.0)\n",
            "Installing collected packages: tensorboard, tensorflow\n",
            "  Found existing installation: tensorboard 1.11.0\n",
            "    Uninstalling tensorboard-1.11.0:\n",
            "      Successfully uninstalled tensorboard-1.11.0\n",
            "  Found existing installation: tensorflow 1.11.0\n",
            "    Uninstalling tensorflow-1.11.0:\n",
            "      Successfully uninstalled tensorflow-1.11.0\n",
            "Successfully installed tensorboard-1.12.1 tensorflow-1.12.0\n"
          ],
          "name": "stdout"
        }
      ]
    },
    {
      "metadata": {
        "id": "3sCS8pRkItqo",
        "colab_type": "code",
        "outputId": "0ceae53f-af00-4ab4-f041-0b854a5dbeba",
        "colab": {
          "base_uri": "https://localhost:8080/",
          "height": 54
        }
      },
      "cell_type": "code",
      "source": [
        "!toco \\\n",
        "--graph_def_file=mnist/opt_mnist_graph.pb \\\n",
        "--output_format=TFLITE \\\n",
        "--inference_type=FLOAT \\\n",
        "--input_type=FLOAT \\\n",
        "--input_arrays=conv2d_1_input \\\n",
        "--output_arrays=softmax_tensor/Softmax \\\n",
        "--input_shapes=1,28,28,1 \\\n",
        "--output_file=mnist/mnist_custom.tflite"
      ],
      "execution_count": 0,
      "outputs": [
        {
          "output_type": "stream",
          "text": [
            "2019-01-02 09:38:08.801878: I tensorflow/core/platform/cpu_feature_guard.cc:141] Your CPU supports instructions that this TensorFlow binary was not compiled to use: AVX2 FMA\n"
          ],
          "name": "stdout"
        }
      ]
    },
    {
      "metadata": {
        "id": "SFuIy92oAepZ",
        "colab_type": "text"
      },
      "cell_type": "markdown",
      "source": [
        "# Test TF-lite Model"
      ]
    },
    {
      "metadata": {
        "id": "OomOaLUV-sga",
        "colab_type": "code",
        "outputId": "0fe46bea-4094-410a-89c0-53fbd140785d",
        "colab": {
          "base_uri": "https://localhost:8080/",
          "height": 121
        }
      },
      "cell_type": "code",
      "source": [
        "!pip install netron "
      ],
      "execution_count": 0,
      "outputs": [
        {
          "output_type": "stream",
          "text": [
            "Collecting netron\n",
            "\u001b[?25l  Downloading https://files.pythonhosted.org/packages/b5/b9/796c3b592a21481bec2b44befdb0d6c3b80d35d35e734fab11298e939780/netron-2.7.9-py2.py3-none-any.whl (2.1MB)\n",
            "\u001b[K    100% |████████████████████████████████| 2.1MB 11.3MB/s \n",
            "\u001b[?25hInstalling collected packages: netron\n",
            "Successfully installed netron-2.7.9\n"
          ],
          "name": "stdout"
        }
      ]
    },
    {
      "metadata": {
        "id": "a5Bck9ZWHUzg",
        "colab_type": "code",
        "outputId": "f4656bb7-c82c-4c31-99ba-33097c358a20",
        "colab": {
          "base_uri": "https://localhost:8080/",
          "height": 286
        }
      },
      "cell_type": "code",
      "source": [
        "!netron -b mnist/mnist_custom.tflite"
      ],
      "execution_count": 0,
      "outputs": [
        {
          "output_type": "stream",
          "text": [
            "Traceback (most recent call last):\n",
            "  File \"/usr/local/bin/netron\", line 11, in <module>\n",
            "    sys.exit(main())\n",
            "  File \"/usr/local/lib/python3.6/dist-packages/netron/__init__.py\", line 23, in main\n",
            "    serve(args.file, None, verbose=args.verbose, browse=args.browse, port=args.port, host=args.host)\n",
            "  File \"/usr/local/lib/python3.6/dist-packages/netron/server.py\", line 204, in serve\n",
            "    thread = HTTPServerThread(data, file, verbose, browse, port, host)\n",
            "  File \"/usr/local/lib/python3.6/dist-packages/netron/server.py\", line 120, in __init__\n",
            "    self.server = ThreadedHTTPServer((host, port), HTTPRequestHandler)\n",
            "  File \"/usr/lib/python3.6/socketserver.py\", line 453, in __init__\n",
            "    self.server_bind()\n",
            "  File \"/usr/lib/python3.6/http/server.py\", line 136, in server_bind\n",
            "    socketserver.TCPServer.server_bind(self)\n",
            "  File \"/usr/lib/python3.6/socketserver.py\", line 467, in server_bind\n",
            "    self.socket.bind(self.server_address)\n",
            "OSError: [Errno 98] Address already in use\n"
          ],
          "name": "stdout"
        }
      ]
    },
    {
      "metadata": {
        "id": "1HvUZp9EHmuD",
        "colab_type": "code",
        "outputId": "18203370-49df-4437-c6ae-33bd632a8ba5",
        "colab": {
          "base_uri": "https://localhost:8080/",
          "height": 34
        }
      },
      "cell_type": "code",
      "source": [
        "#https://github.com/freedomtan/tensorflow/blob/deeplab_tflite_python/tensorflow/contrib/lite/examples/python/label_image.py\n",
        "import numpy as np\n",
        "\n",
        "# Load TFLite model and allocate tensors.\n",
        "interpreter = tf.contrib.lite.Interpreter(model_path=\"mnist/mnist_custom.tflite\")\n",
        "interpreter.allocate_tensors()\n",
        "\n",
        "# Get input and output tensors.\n",
        "input_details = interpreter.get_input_details()\n",
        "output_details = interpreter.get_output_details()\n",
        "tf.__version__"
      ],
      "execution_count": 0,
      "outputs": [
        {
          "output_type": "execute_result",
          "data": {
            "text/plain": [
              "'1.12.0'"
            ]
          },
          "metadata": {
            "tags": []
          },
          "execution_count": 139
        }
      ]
    },
    {
      "metadata": {
        "id": "_bI2BvooKQ1X",
        "colab_type": "code",
        "outputId": "38ec59b5-0054-4c06-b417-ff907186f2d1",
        "colab": {
          "base_uri": "https://localhost:8080/",
          "height": 101
        }
      },
      "cell_type": "code",
      "source": [
        "input_details"
      ],
      "execution_count": 0,
      "outputs": [
        {
          "output_type": "execute_result",
          "data": {
            "text/plain": [
              "[{'dtype': numpy.float32,\n",
              "  'index': 3,\n",
              "  'name': 'conv2d_1_input',\n",
              "  'quantization': (0.0, 0),\n",
              "  'shape': array([ 1, 28, 28,  1], dtype=int32)}]"
            ]
          },
          "metadata": {
            "tags": []
          },
          "execution_count": 116
        }
      ]
    },
    {
      "metadata": {
        "id": "TC4U3CwIgFYV",
        "colab_type": "code",
        "colab": {}
      },
      "cell_type": "code",
      "source": [
        ""
      ],
      "execution_count": 0,
      "outputs": []
    },
    {
      "metadata": {
        "id": "UYSEn3ItKgeu",
        "colab_type": "code",
        "outputId": "1c182ccb-9af6-4709-a9b0-0ed1e1d282f4",
        "colab": {
          "base_uri": "https://localhost:8080/",
          "height": 34
        }
      },
      "cell_type": "code",
      "source": [
        "test_images[0].shape"
      ],
      "execution_count": 0,
      "outputs": [
        {
          "output_type": "execute_result",
          "data": {
            "text/plain": [
              "(28, 28, 1)"
            ]
          },
          "metadata": {
            "tags": []
          },
          "execution_count": 145
        }
      ]
    },
    {
      "metadata": {
        "id": "2gC0GX7wMCmC",
        "colab_type": "code",
        "outputId": "0819a99f-dd07-415b-81fd-8d80801219e6",
        "colab": {
          "base_uri": "https://localhost:8080/",
          "height": 34
        }
      },
      "cell_type": "code",
      "source": [
        "# add N dim\n",
        "input_data = np.expand_dims(test_images[0], axis=0)\n",
        "input_data.shape"
      ],
      "execution_count": 0,
      "outputs": [
        {
          "output_type": "execute_result",
          "data": {
            "text/plain": [
              "(1, 28, 28, 1)"
            ]
          },
          "metadata": {
            "tags": []
          },
          "execution_count": 146
        }
      ]
    },
    {
      "metadata": {
        "id": "XgavfcEXdFMz",
        "colab_type": "code",
        "outputId": "3b388fc1-769f-4984-a727-7d7a114c5595",
        "colab": {
          "base_uri": "https://localhost:8080/",
          "height": 34
        }
      },
      "cell_type": "code",
      "source": [
        "#input_data.dtype"
      ],
      "execution_count": 0,
      "outputs": [
        {
          "output_type": "execute_result",
          "data": {
            "text/plain": [
              "dtype('float32')"
            ]
          },
          "metadata": {
            "tags": []
          },
          "execution_count": 140
        }
      ]
    },
    {
      "metadata": {
        "id": "xayEdnWAdZvX",
        "colab_type": "code",
        "colab": {}
      },
      "cell_type": "code",
      "source": [
        "input_tensor= tf.convert_to_tensor(input_data, np.float32)"
      ],
      "execution_count": 0,
      "outputs": []
    },
    {
      "metadata": {
        "id": "aC4GH3TPMLwr",
        "colab_type": "code",
        "colab": {}
      },
      "cell_type": "code",
      "source": [
        "interpreter.set_tensor(input_details[0]['index'], input_data)"
      ],
      "execution_count": 0,
      "outputs": []
    },
    {
      "metadata": {
        "id": "5LpicKYBLAES",
        "colab_type": "code",
        "colab": {}
      },
      "cell_type": "code",
      "source": [
        "interpreter.invoke()"
      ],
      "execution_count": 0,
      "outputs": []
    },
    {
      "metadata": {
        "id": "kFuCnpslhcfs",
        "colab_type": "code",
        "colab": {}
      },
      "cell_type": "code",
      "source": [
        "output_data = interpreter.get_tensor(output_details[0]['index'])"
      ],
      "execution_count": 0,
      "outputs": []
    },
    {
      "metadata": {
        "id": "9g9LUnFxZFIQ",
        "colab_type": "code",
        "outputId": "531d2489-3383-4062-dec5-3f6ddd6e9c9f",
        "colab": {
          "base_uri": "https://localhost:8080/",
          "height": 50
        }
      },
      "cell_type": "code",
      "source": [
        "output_data = interpreter.get_tensor(output_details[0]['index'])"
      ],
      "execution_count": 0,
      "outputs": [
        {
          "output_type": "stream",
          "text": [
            "The slowest run took 20.72 times longer than the fastest. This could mean that an intermediate result is being cached.\n",
            "1000000 loops, best of 3: 1.01 µs per loop\n"
          ],
          "name": "stdout"
        }
      ]
    },
    {
      "metadata": {
        "id": "Grpe6izpKSja",
        "colab_type": "code",
        "outputId": "b0df7430-63b1-4184-bcde-7168b15ad9fb",
        "colab": {
          "base_uri": "https://localhost:8080/",
          "height": 50
        }
      },
      "cell_type": "code",
      "source": [
        "print(output_data)\n",
        "results = np.squeeze(output_data)"
      ],
      "execution_count": 0,
      "outputs": [
        {
          "output_type": "stream",
          "text": [
            "[[1.2225850e-12 3.5842336e-11 8.6556126e-13 2.4228613e-14 2.0713073e-15\n",
            "  5.6910074e-16 1.6125180e-18 1.0000000e+00 1.7766709e-15 4.2785513e-09]]\n"
          ],
          "name": "stdout"
        }
      ]
    },
    {
      "metadata": {
        "id": "XwQA5mFYfXFf",
        "colab_type": "code",
        "outputId": "a61393d6-88a0-4d00-824e-5d62e40a7647",
        "colab": {
          "base_uri": "https://localhost:8080/",
          "height": 364
        }
      },
      "cell_type": "code",
      "source": [
        "import matplotlib.pyplot as plt\n",
        "plt.imshow(test_images[0].reshape(28,28))"
      ],
      "execution_count": 0,
      "outputs": [
        {
          "output_type": "execute_result",
          "data": {
            "text/plain": [
              "<matplotlib.image.AxesImage at 0x7fecc3874668>"
            ]
          },
          "metadata": {
            "tags": []
          },
          "execution_count": 154
        },
        {
          "output_type": "display_data",
          "data": {
            "image/png": "[encoded data removed]",
            "text/plain": [
              "<matplotlib.figure.Figure at 0x7fecc39a29b0>"
            ]
          },
          "metadata": {
            "tags": []
          }
        }
      ]
    },
    {
      "metadata": {
        "id": "C_1M-8akfjQL",
        "colab_type": "code",
        "colab": {}
      },
      "cell_type": "code",
      "source": [
        "top_k = results.argsort()[-3:][::-1]"
      ],
      "execution_count": 0,
      "outputs": []
    },
    {
      "metadata": {
        "id": "6tjq-DTagSMg",
        "colab_type": "code",
        "outputId": "ccf30f49-65e5-4ddb-8803-acec735eb236",
        "colab": {
          "base_uri": "https://localhost:8080/",
          "height": 34
        }
      },
      "cell_type": "code",
      "source": [
        "print(top_k)"
      ],
      "execution_count": 0,
      "outputs": [
        {
          "output_type": "stream",
          "text": [
            "[7 9 1]\n"
          ],
          "name": "stdout"
        }
      ]
    },
    {
      "metadata": {
        "id": "Nsiu1kZagaKT",
        "colab_type": "text"
      },
      "cell_type": "markdown",
      "source": [
        "*BINGO*!"
      ]
    },
    {
      "metadata": {
        "id": "YSlVArYUgbzu",
        "colab_type": "code",
        "colab": {}
      },
      "cell_type": "code",
      "source": [
        ""
      ],
      "execution_count": 0,
      "outputs": []
    }
  ]
}